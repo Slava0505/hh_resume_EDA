{
  "cells": [
    {
      "cell_type": "markdown",
      "id": "42289889-bd57-434e-9637-d3e354756316",
      "metadata": {
        "id": "42289889-bd57-434e-9637-d3e354756316"
      },
      "source": [
        "<center> <img src = https://raw.githubusercontent.com/AndreyRysistov/DatasetsForPandas/main/hh%20label.jpg alt=\"drawing\" style=\"width:400px;\">"
      ]
    },
    {
      "cell_type": "markdown",
      "id": "829cb75b-f14e-4ba8-9195-7ba929a7d656",
      "metadata": {
        "tags": [],
        "id": "829cb75b-f14e-4ba8-9195-7ba929a7d656"
      },
      "source": [
        "# <center> Проект: Анализ резюме из HeadHunter\n",
        "   "
      ]
    },
    {
      "cell_type": "code",
      "execution_count": 1,
      "id": "dccfde33-2452-43fb-a8a5-5c6ebc02a71d",
      "metadata": {
        "id": "dccfde33-2452-43fb-a8a5-5c6ebc02a71d"
      },
      "outputs": [],
      "source": [
        "import re\n",
        "import pandas as pd\n",
        "import numpy as np\n",
        "import matplotlib.pyplot as plt\n",
        "import seaborn as sns\n",
        "import plotly.express as px\n",
        "from sklearn.preprocessing import MultiLabelBinarizer"
      ]
    },
    {
      "cell_type": "code",
      "source": [
        "!gdown --id 1Kb78mAWYKcYlellTGhIjPI-bCcKbGuTn"
      ],
      "metadata": {
        "colab": {
          "base_uri": "https://localhost:8080/"
        },
        "id": "nFXvb4YSW6Z6",
        "outputId": "971d545c-b54a-4e7d-fd66-fd429cd062a6"
      },
      "id": "nFXvb4YSW6Z6",
      "execution_count": 2,
      "outputs": [
        {
          "output_type": "stream",
          "name": "stdout",
          "text": [
            "/usr/local/lib/python3.10/dist-packages/gdown/cli.py:121: FutureWarning: Option `--id` was deprecated in version 4.3.1 and will be removed in 5.0. You don't need to pass it anymore to use a file ID.\n",
            "  warnings.warn(\n",
            "Downloading...\n",
            "From: https://drive.google.com/uc?id=1Kb78mAWYKcYlellTGhIjPI-bCcKbGuTn\n",
            "To: /content/dst-3.0_16_1_hh_database.csv\n",
            "100% 455M/455M [00:07<00:00, 60.3MB/s]\n"
          ]
        }
      ]
    },
    {
      "cell_type": "markdown",
      "id": "0dc6476b-7a00-44f1-ac93-6e3baed33a29",
      "metadata": {
        "id": "0dc6476b-7a00-44f1-ac93-6e3baed33a29"
      },
      "source": [
        "# Исследование структуры данных"
      ]
    },
    {
      "cell_type": "markdown",
      "id": "889782b6-8d1c-410e-8920-e57f27917c64",
      "metadata": {
        "id": "889782b6-8d1c-410e-8920-e57f27917c64"
      },
      "source": [
        "1. Прочитайте данные с помощью библиотеки Pandas. Совет: перед чтением обратите внимание на разделитель внутри файла."
      ]
    },
    {
      "cell_type": "code",
      "execution_count": 3,
      "id": "bc39e68e-ed02-4ee2-9235-7258a2f867a8",
      "metadata": {
        "id": "bc39e68e-ed02-4ee2-9235-7258a2f867a8"
      },
      "outputs": [],
      "source": [
        "df = pd.read_csv('dst-3.0_16_1_hh_database.csv', sep = ';')"
      ]
    },
    {
      "cell_type": "markdown",
      "id": "b583485d-1f9e-494e-ada4-80ffff7c53d6",
      "metadata": {
        "id": "b583485d-1f9e-494e-ada4-80ffff7c53d6"
      },
      "source": [
        "2. Выведите несколько первых (последних) строк таблицы, чтобы убедиться в том, что ваши данные не повреждены. Ознакомьтесь с признаками и их структурой."
      ]
    },
    {
      "cell_type": "code",
      "execution_count": 4,
      "id": "5408c52c-3407-4a63-b25b-1aafa2322d28",
      "metadata": {
        "id": "5408c52c-3407-4a63-b25b-1aafa2322d28",
        "colab": {
          "base_uri": "https://localhost:8080/",
          "height": 674
        },
        "outputId": "5a68f72d-56d5-4c79-cdf5-ab858504a711"
      },
      "outputs": [
        {
          "output_type": "execute_result",
          "data": {
            "text/plain": [
              "                                   Пол, возраст           ЗП  \\\n",
              "0    Мужчина ,  39 лет , родился 27 ноября 1979   29000 руб.   \n",
              "1     Мужчина ,  60 лет , родился 20 марта 1959   40000 руб.   \n",
              "2  Женщина ,  36 лет , родилась 12 августа 1982   20000 руб.   \n",
              "3      Мужчина ,  38 лет , родился 25 июня 1980  100000 руб.   \n",
              "4     Женщина ,  26 лет , родилась 3 марта 1993  140000 руб.   \n",
              "\n",
              "                           Ищет работу на должность:  \\\n",
              "0                            Системный администратор   \n",
              "1                               Технический писатель   \n",
              "2                                           Оператор   \n",
              "3  Веб-разработчик (HTML / CSS / JS / PHP / базы ...   \n",
              "4                  Региональный менеджер по продажам   \n",
              "\n",
              "                        Город, переезд, командировки  \\\n",
              "0  Советск (Калининградская область) , не готов к...   \n",
              "1  Королев , не готов к переезду , готов к редким...   \n",
              "2  Тверь , не готова к переезду , не готова к ком...   \n",
              "3  Саратов , не готов к переезду , готов к редким...   \n",
              "4  Москва , не готова к переезду , готова к коман...   \n",
              "\n",
              "                                           Занятость  \\\n",
              "0  частичная занятость, проектная работа, полная ...   \n",
              "1  частичная занятость, проектная работа, полная ...   \n",
              "2                                   полная занятость   \n",
              "3  частичная занятость, проектная работа, полная ...   \n",
              "4                                   полная занятость   \n",
              "\n",
              "                                              График  \\\n",
              "0  гибкий график, полный день, сменный график, ва...   \n",
              "1  гибкий график, полный день, сменный график, уд...   \n",
              "2                                        полный день   \n",
              "3                    гибкий график, удаленная работа   \n",
              "4                                        полный день   \n",
              "\n",
              "                                         Опыт работы  \\\n",
              "0  Опыт работы 16 лет 10 месяцев  Август 2010 — п...   \n",
              "1  Опыт работы 19 лет 5 месяцев  Январь 2000 — по...   \n",
              "2  Опыт работы 10 лет 3 месяца  Октябрь 2004 — Де...   \n",
              "3  Опыт работы 18 лет 9 месяцев  Август 2017 — Ап...   \n",
              "4  Опыт работы 5 лет 7 месяцев  Региональный мене...   \n",
              "\n",
              "  Последнее/нынешнее место работы  \\\n",
              "0         МАОУ \"СОШ № 1 г.Немана\"   \n",
              "1    Временный трудовой коллектив   \n",
              "2                    ПАО Сбербанк   \n",
              "3                        OpenSoft   \n",
              "4                        Мармелад   \n",
              "\n",
              "                       Последняя/нынешняя должность  \\\n",
              "0                           Системный администратор   \n",
              "1  Менеджер проекта, Аналитик, Технический писатель   \n",
              "2                               Кассир-операционист   \n",
              "3                               Инженер-программист   \n",
              "4                              Менеджер по продажам   \n",
              "\n",
              "                                   Образование и ВУЗ Обновление резюме  \\\n",
              "0  Неоконченное высшее образование 2000  Балтийск...  16.04.2019 15:59   \n",
              "1  Высшее образование 1981  Военно-космическая ак...  12.04.2019 08:42   \n",
              "2  Среднее специальное образование 2002 Профессио...  16.04.2019 08:35   \n",
              "3  Высшее образование 2002  Саратовский государст...  08.04.2019 14:23   \n",
              "4  Высшее образование 2015 Кгу Психологии и педаг...  22.04.2019 10:32   \n",
              "\n",
              "                             Авто  \n",
              "0  Имеется собственный автомобиль  \n",
              "1                      Не указано  \n",
              "2                      Не указано  \n",
              "3                      Не указано  \n",
              "4                      Не указано  "
            ],
            "text/html": [
              "\n",
              "  <div id=\"df-abcb3088-40e6-457e-9c42-9cd8e05eb1ed\" class=\"colab-df-container\">\n",
              "    <div>\n",
              "<style scoped>\n",
              "    .dataframe tbody tr th:only-of-type {\n",
              "        vertical-align: middle;\n",
              "    }\n",
              "\n",
              "    .dataframe tbody tr th {\n",
              "        vertical-align: top;\n",
              "    }\n",
              "\n",
              "    .dataframe thead th {\n",
              "        text-align: right;\n",
              "    }\n",
              "</style>\n",
              "<table border=\"1\" class=\"dataframe\">\n",
              "  <thead>\n",
              "    <tr style=\"text-align: right;\">\n",
              "      <th></th>\n",
              "      <th>Пол, возраст</th>\n",
              "      <th>ЗП</th>\n",
              "      <th>Ищет работу на должность:</th>\n",
              "      <th>Город, переезд, командировки</th>\n",
              "      <th>Занятость</th>\n",
              "      <th>График</th>\n",
              "      <th>Опыт работы</th>\n",
              "      <th>Последнее/нынешнее место работы</th>\n",
              "      <th>Последняя/нынешняя должность</th>\n",
              "      <th>Образование и ВУЗ</th>\n",
              "      <th>Обновление резюме</th>\n",
              "      <th>Авто</th>\n",
              "    </tr>\n",
              "  </thead>\n",
              "  <tbody>\n",
              "    <tr>\n",
              "      <th>0</th>\n",
              "      <td>Мужчина ,  39 лет , родился 27 ноября 1979</td>\n",
              "      <td>29000 руб.</td>\n",
              "      <td>Системный администратор</td>\n",
              "      <td>Советск (Калининградская область) , не готов к...</td>\n",
              "      <td>частичная занятость, проектная работа, полная ...</td>\n",
              "      <td>гибкий график, полный день, сменный график, ва...</td>\n",
              "      <td>Опыт работы 16 лет 10 месяцев  Август 2010 — п...</td>\n",
              "      <td>МАОУ \"СОШ № 1 г.Немана\"</td>\n",
              "      <td>Системный администратор</td>\n",
              "      <td>Неоконченное высшее образование 2000  Балтийск...</td>\n",
              "      <td>16.04.2019 15:59</td>\n",
              "      <td>Имеется собственный автомобиль</td>\n",
              "    </tr>\n",
              "    <tr>\n",
              "      <th>1</th>\n",
              "      <td>Мужчина ,  60 лет , родился 20 марта 1959</td>\n",
              "      <td>40000 руб.</td>\n",
              "      <td>Технический писатель</td>\n",
              "      <td>Королев , не готов к переезду , готов к редким...</td>\n",
              "      <td>частичная занятость, проектная работа, полная ...</td>\n",
              "      <td>гибкий график, полный день, сменный график, уд...</td>\n",
              "      <td>Опыт работы 19 лет 5 месяцев  Январь 2000 — по...</td>\n",
              "      <td>Временный трудовой коллектив</td>\n",
              "      <td>Менеджер проекта, Аналитик, Технический писатель</td>\n",
              "      <td>Высшее образование 1981  Военно-космическая ак...</td>\n",
              "      <td>12.04.2019 08:42</td>\n",
              "      <td>Не указано</td>\n",
              "    </tr>\n",
              "    <tr>\n",
              "      <th>2</th>\n",
              "      <td>Женщина ,  36 лет , родилась 12 августа 1982</td>\n",
              "      <td>20000 руб.</td>\n",
              "      <td>Оператор</td>\n",
              "      <td>Тверь , не готова к переезду , не готова к ком...</td>\n",
              "      <td>полная занятость</td>\n",
              "      <td>полный день</td>\n",
              "      <td>Опыт работы 10 лет 3 месяца  Октябрь 2004 — Де...</td>\n",
              "      <td>ПАО Сбербанк</td>\n",
              "      <td>Кассир-операционист</td>\n",
              "      <td>Среднее специальное образование 2002 Профессио...</td>\n",
              "      <td>16.04.2019 08:35</td>\n",
              "      <td>Не указано</td>\n",
              "    </tr>\n",
              "    <tr>\n",
              "      <th>3</th>\n",
              "      <td>Мужчина ,  38 лет , родился 25 июня 1980</td>\n",
              "      <td>100000 руб.</td>\n",
              "      <td>Веб-разработчик (HTML / CSS / JS / PHP / базы ...</td>\n",
              "      <td>Саратов , не готов к переезду , готов к редким...</td>\n",
              "      <td>частичная занятость, проектная работа, полная ...</td>\n",
              "      <td>гибкий график, удаленная работа</td>\n",
              "      <td>Опыт работы 18 лет 9 месяцев  Август 2017 — Ап...</td>\n",
              "      <td>OpenSoft</td>\n",
              "      <td>Инженер-программист</td>\n",
              "      <td>Высшее образование 2002  Саратовский государст...</td>\n",
              "      <td>08.04.2019 14:23</td>\n",
              "      <td>Не указано</td>\n",
              "    </tr>\n",
              "    <tr>\n",
              "      <th>4</th>\n",
              "      <td>Женщина ,  26 лет , родилась 3 марта 1993</td>\n",
              "      <td>140000 руб.</td>\n",
              "      <td>Региональный менеджер по продажам</td>\n",
              "      <td>Москва , не готова к переезду , готова к коман...</td>\n",
              "      <td>полная занятость</td>\n",
              "      <td>полный день</td>\n",
              "      <td>Опыт работы 5 лет 7 месяцев  Региональный мене...</td>\n",
              "      <td>Мармелад</td>\n",
              "      <td>Менеджер по продажам</td>\n",
              "      <td>Высшее образование 2015 Кгу Психологии и педаг...</td>\n",
              "      <td>22.04.2019 10:32</td>\n",
              "      <td>Не указано</td>\n",
              "    </tr>\n",
              "  </tbody>\n",
              "</table>\n",
              "</div>\n",
              "    <div class=\"colab-df-buttons\">\n",
              "\n",
              "  <div class=\"colab-df-container\">\n",
              "    <button class=\"colab-df-convert\" onclick=\"convertToInteractive('df-abcb3088-40e6-457e-9c42-9cd8e05eb1ed')\"\n",
              "            title=\"Convert this dataframe to an interactive table.\"\n",
              "            style=\"display:none;\">\n",
              "\n",
              "  <svg xmlns=\"http://www.w3.org/2000/svg\" height=\"24px\" viewBox=\"0 -960 960 960\">\n",
              "    <path d=\"M120-120v-720h720v720H120Zm60-500h600v-160H180v160Zm220 220h160v-160H400v160Zm0 220h160v-160H400v160ZM180-400h160v-160H180v160Zm440 0h160v-160H620v160ZM180-180h160v-160H180v160Zm440 0h160v-160H620v160Z\"/>\n",
              "  </svg>\n",
              "    </button>\n",
              "\n",
              "  <style>\n",
              "    .colab-df-container {\n",
              "      display:flex;\n",
              "      gap: 12px;\n",
              "    }\n",
              "\n",
              "    .colab-df-convert {\n",
              "      background-color: #E8F0FE;\n",
              "      border: none;\n",
              "      border-radius: 50%;\n",
              "      cursor: pointer;\n",
              "      display: none;\n",
              "      fill: #1967D2;\n",
              "      height: 32px;\n",
              "      padding: 0 0 0 0;\n",
              "      width: 32px;\n",
              "    }\n",
              "\n",
              "    .colab-df-convert:hover {\n",
              "      background-color: #E2EBFA;\n",
              "      box-shadow: 0px 1px 2px rgba(60, 64, 67, 0.3), 0px 1px 3px 1px rgba(60, 64, 67, 0.15);\n",
              "      fill: #174EA6;\n",
              "    }\n",
              "\n",
              "    .colab-df-buttons div {\n",
              "      margin-bottom: 4px;\n",
              "    }\n",
              "\n",
              "    [theme=dark] .colab-df-convert {\n",
              "      background-color: #3B4455;\n",
              "      fill: #D2E3FC;\n",
              "    }\n",
              "\n",
              "    [theme=dark] .colab-df-convert:hover {\n",
              "      background-color: #434B5C;\n",
              "      box-shadow: 0px 1px 3px 1px rgba(0, 0, 0, 0.15);\n",
              "      filter: drop-shadow(0px 1px 2px rgba(0, 0, 0, 0.3));\n",
              "      fill: #FFFFFF;\n",
              "    }\n",
              "  </style>\n",
              "\n",
              "    <script>\n",
              "      const buttonEl =\n",
              "        document.querySelector('#df-abcb3088-40e6-457e-9c42-9cd8e05eb1ed button.colab-df-convert');\n",
              "      buttonEl.style.display =\n",
              "        google.colab.kernel.accessAllowed ? 'block' : 'none';\n",
              "\n",
              "      async function convertToInteractive(key) {\n",
              "        const element = document.querySelector('#df-abcb3088-40e6-457e-9c42-9cd8e05eb1ed');\n",
              "        const dataTable =\n",
              "          await google.colab.kernel.invokeFunction('convertToInteractive',\n",
              "                                                    [key], {});\n",
              "        if (!dataTable) return;\n",
              "\n",
              "        const docLinkHtml = 'Like what you see? Visit the ' +\n",
              "          '<a target=\"_blank\" href=https://colab.research.google.com/notebooks/data_table.ipynb>data table notebook</a>'\n",
              "          + ' to learn more about interactive tables.';\n",
              "        element.innerHTML = '';\n",
              "        dataTable['output_type'] = 'display_data';\n",
              "        await google.colab.output.renderOutput(dataTable, element);\n",
              "        const docLink = document.createElement('div');\n",
              "        docLink.innerHTML = docLinkHtml;\n",
              "        element.appendChild(docLink);\n",
              "      }\n",
              "    </script>\n",
              "  </div>\n",
              "\n",
              "\n",
              "<div id=\"df-419c31d4-f885-4a0f-bcaa-ffad6ad95e72\">\n",
              "  <button class=\"colab-df-quickchart\" onclick=\"quickchart('df-419c31d4-f885-4a0f-bcaa-ffad6ad95e72')\"\n",
              "            title=\"Suggest charts\"\n",
              "            style=\"display:none;\">\n",
              "\n",
              "<svg xmlns=\"http://www.w3.org/2000/svg\" height=\"24px\"viewBox=\"0 0 24 24\"\n",
              "     width=\"24px\">\n",
              "    <g>\n",
              "        <path d=\"M19 3H5c-1.1 0-2 .9-2 2v14c0 1.1.9 2 2 2h14c1.1 0 2-.9 2-2V5c0-1.1-.9-2-2-2zM9 17H7v-7h2v7zm4 0h-2V7h2v10zm4 0h-2v-4h2v4z\"/>\n",
              "    </g>\n",
              "</svg>\n",
              "  </button>\n",
              "\n",
              "<style>\n",
              "  .colab-df-quickchart {\n",
              "      --bg-color: #E8F0FE;\n",
              "      --fill-color: #1967D2;\n",
              "      --hover-bg-color: #E2EBFA;\n",
              "      --hover-fill-color: #174EA6;\n",
              "      --disabled-fill-color: #AAA;\n",
              "      --disabled-bg-color: #DDD;\n",
              "  }\n",
              "\n",
              "  [theme=dark] .colab-df-quickchart {\n",
              "      --bg-color: #3B4455;\n",
              "      --fill-color: #D2E3FC;\n",
              "      --hover-bg-color: #434B5C;\n",
              "      --hover-fill-color: #FFFFFF;\n",
              "      --disabled-bg-color: #3B4455;\n",
              "      --disabled-fill-color: #666;\n",
              "  }\n",
              "\n",
              "  .colab-df-quickchart {\n",
              "    background-color: var(--bg-color);\n",
              "    border: none;\n",
              "    border-radius: 50%;\n",
              "    cursor: pointer;\n",
              "    display: none;\n",
              "    fill: var(--fill-color);\n",
              "    height: 32px;\n",
              "    padding: 0;\n",
              "    width: 32px;\n",
              "  }\n",
              "\n",
              "  .colab-df-quickchart:hover {\n",
              "    background-color: var(--hover-bg-color);\n",
              "    box-shadow: 0 1px 2px rgba(60, 64, 67, 0.3), 0 1px 3px 1px rgba(60, 64, 67, 0.15);\n",
              "    fill: var(--button-hover-fill-color);\n",
              "  }\n",
              "\n",
              "  .colab-df-quickchart-complete:disabled,\n",
              "  .colab-df-quickchart-complete:disabled:hover {\n",
              "    background-color: var(--disabled-bg-color);\n",
              "    fill: var(--disabled-fill-color);\n",
              "    box-shadow: none;\n",
              "  }\n",
              "\n",
              "  .colab-df-spinner {\n",
              "    border: 2px solid var(--fill-color);\n",
              "    border-color: transparent;\n",
              "    border-bottom-color: var(--fill-color);\n",
              "    animation:\n",
              "      spin 1s steps(1) infinite;\n",
              "  }\n",
              "\n",
              "  @keyframes spin {\n",
              "    0% {\n",
              "      border-color: transparent;\n",
              "      border-bottom-color: var(--fill-color);\n",
              "      border-left-color: var(--fill-color);\n",
              "    }\n",
              "    20% {\n",
              "      border-color: transparent;\n",
              "      border-left-color: var(--fill-color);\n",
              "      border-top-color: var(--fill-color);\n",
              "    }\n",
              "    30% {\n",
              "      border-color: transparent;\n",
              "      border-left-color: var(--fill-color);\n",
              "      border-top-color: var(--fill-color);\n",
              "      border-right-color: var(--fill-color);\n",
              "    }\n",
              "    40% {\n",
              "      border-color: transparent;\n",
              "      border-right-color: var(--fill-color);\n",
              "      border-top-color: var(--fill-color);\n",
              "    }\n",
              "    60% {\n",
              "      border-color: transparent;\n",
              "      border-right-color: var(--fill-color);\n",
              "    }\n",
              "    80% {\n",
              "      border-color: transparent;\n",
              "      border-right-color: var(--fill-color);\n",
              "      border-bottom-color: var(--fill-color);\n",
              "    }\n",
              "    90% {\n",
              "      border-color: transparent;\n",
              "      border-bottom-color: var(--fill-color);\n",
              "    }\n",
              "  }\n",
              "</style>\n",
              "\n",
              "  <script>\n",
              "    async function quickchart(key) {\n",
              "      const quickchartButtonEl =\n",
              "        document.querySelector('#' + key + ' button');\n",
              "      quickchartButtonEl.disabled = true;  // To prevent multiple clicks.\n",
              "      quickchartButtonEl.classList.add('colab-df-spinner');\n",
              "      try {\n",
              "        const charts = await google.colab.kernel.invokeFunction(\n",
              "            'suggestCharts', [key], {});\n",
              "      } catch (error) {\n",
              "        console.error('Error during call to suggestCharts:', error);\n",
              "      }\n",
              "      quickchartButtonEl.classList.remove('colab-df-spinner');\n",
              "      quickchartButtonEl.classList.add('colab-df-quickchart-complete');\n",
              "    }\n",
              "    (() => {\n",
              "      let quickchartButtonEl =\n",
              "        document.querySelector('#df-419c31d4-f885-4a0f-bcaa-ffad6ad95e72 button');\n",
              "      quickchartButtonEl.style.display =\n",
              "        google.colab.kernel.accessAllowed ? 'block' : 'none';\n",
              "    })();\n",
              "  </script>\n",
              "</div>\n",
              "    </div>\n",
              "  </div>\n"
            ]
          },
          "metadata": {},
          "execution_count": 4
        }
      ],
      "source": [
        "df.head()"
      ]
    },
    {
      "cell_type": "markdown",
      "id": "a2bfff1f-c975-4bf6-84be-2185d79dcb76",
      "metadata": {
        "id": "a2bfff1f-c975-4bf6-84be-2185d79dcb76"
      },
      "source": [
        "3. Выведите основную информацию о числе непустых значений в столбцах и их типах в таблице."
      ]
    },
    {
      "cell_type": "code",
      "source": [
        "df.info()"
      ],
      "metadata": {
        "id": "1_4bqZgNXP2R",
        "colab": {
          "base_uri": "https://localhost:8080/"
        },
        "outputId": "f08db8c8-b7b9-4f10-b6ac-1ff864009a33"
      },
      "id": "1_4bqZgNXP2R",
      "execution_count": 5,
      "outputs": [
        {
          "output_type": "stream",
          "name": "stdout",
          "text": [
            "<class 'pandas.core.frame.DataFrame'>\n",
            "RangeIndex: 44744 entries, 0 to 44743\n",
            "Data columns (total 12 columns):\n",
            " #   Column                           Non-Null Count  Dtype \n",
            "---  ------                           --------------  ----- \n",
            " 0   Пол, возраст                     44744 non-null  object\n",
            " 1   ЗП                               44744 non-null  object\n",
            " 2   Ищет работу на должность:        44744 non-null  object\n",
            " 3   Город, переезд, командировки     44744 non-null  object\n",
            " 4   Занятость                        44744 non-null  object\n",
            " 5   График                           44744 non-null  object\n",
            " 6   Опыт работы                      44576 non-null  object\n",
            " 7   Последнее/нынешнее место работы  44743 non-null  object\n",
            " 8   Последняя/нынешняя должность     44742 non-null  object\n",
            " 9   Образование и ВУЗ                44744 non-null  object\n",
            " 10  Обновление резюме                44744 non-null  object\n",
            " 11  Авто                             44744 non-null  object\n",
            "dtypes: object(12)\n",
            "memory usage: 4.1+ MB\n"
          ]
        }
      ]
    },
    {
      "cell_type": "markdown",
      "id": "41bb59f3-53cc-4a67-a5bc-bedf573955e4",
      "metadata": {
        "id": "41bb59f3-53cc-4a67-a5bc-bedf573955e4"
      },
      "source": [
        "4. Обратите внимание на информацию о числе непустых значений."
      ]
    },
    {
      "cell_type": "code",
      "execution_count": 6,
      "id": "d286cf4c-707b-4cd2-9190-7ab3587d04a1",
      "metadata": {
        "id": "d286cf4c-707b-4cd2-9190-7ab3587d04a1",
        "colab": {
          "base_uri": "https://localhost:8080/"
        },
        "outputId": "a590e791-74a0-40d6-8070-17c16e6cbeeb"
      },
      "outputs": [
        {
          "output_type": "stream",
          "name": "stdout",
          "text": [
            "<class 'pandas.core.frame.DataFrame'>\n",
            "RangeIndex: 44744 entries, 0 to 44743\n",
            "Data columns (total 12 columns):\n",
            " #   Column                           Non-Null Count  Dtype \n",
            "---  ------                           --------------  ----- \n",
            " 0   Пол, возраст                     44744 non-null  object\n",
            " 1   ЗП                               44744 non-null  object\n",
            " 2   Ищет работу на должность:        44744 non-null  object\n",
            " 3   Город, переезд, командировки     44744 non-null  object\n",
            " 4   Занятость                        44744 non-null  object\n",
            " 5   График                           44744 non-null  object\n",
            " 6   Опыт работы                      44576 non-null  object\n",
            " 7   Последнее/нынешнее место работы  44743 non-null  object\n",
            " 8   Последняя/нынешняя должность     44742 non-null  object\n",
            " 9   Образование и ВУЗ                44744 non-null  object\n",
            " 10  Обновление резюме                44744 non-null  object\n",
            " 11  Авто                             44744 non-null  object\n",
            "dtypes: object(12)\n",
            "memory usage: 4.1+ MB\n"
          ]
        }
      ],
      "source": [
        "df.info()"
      ]
    },
    {
      "cell_type": "markdown",
      "id": "9a8a2181-6914-448b-85f1-38f5f18b8a93",
      "metadata": {
        "id": "9a8a2181-6914-448b-85f1-38f5f18b8a93"
      },
      "source": [
        "5. Выведите основную статистическую информацию о столбцах.\n"
      ]
    },
    {
      "cell_type": "code",
      "execution_count": 7,
      "id": "be4e9bd3-a4db-4a20-82fb-6b02fc2957e0",
      "metadata": {
        "id": "be4e9bd3-a4db-4a20-82fb-6b02fc2957e0",
        "colab": {
          "base_uri": "https://localhost:8080/",
          "height": 313
        },
        "outputId": "0ca5010c-0b83-41b5-aca0-b2c8b6c1e5af"
      },
      "outputs": [
        {
          "output_type": "execute_result",
          "data": {
            "text/plain": [
              "                                         Пол, возраст          ЗП  \\\n",
              "count                                           44744       44744   \n",
              "unique                                          16003         690   \n",
              "top     Мужчина ,  32 года , родился 17 сентября 1986  50000 руб.   \n",
              "freq                                               18        4064   \n",
              "\n",
              "       Ищет работу на должность:  \\\n",
              "count                      44744   \n",
              "unique                     14929   \n",
              "top      Системный администратор   \n",
              "freq                        3099   \n",
              "\n",
              "                             Город, переезд, командировки         Занятость  \\\n",
              "count                                               44744             44744   \n",
              "unique                                              10063                38   \n",
              "top     Москва , не готов к переезду , не готов к кома...  полная занятость   \n",
              "freq                                                 1261             30026   \n",
              "\n",
              "             График                                        Опыт работы  \\\n",
              "count         44744                                              44576   \n",
              "unique           47                                              44413   \n",
              "top     полный день  Опыт работы 10 лет 8 месяцев  Апрель 2018 — по...   \n",
              "freq          22727                                                  3   \n",
              "\n",
              "                          Последнее/нынешнее место работы  \\\n",
              "count                                               44743   \n",
              "unique                                              30214   \n",
              "top     Индивидуальное предпринимательство / частная п...   \n",
              "freq                                                  935   \n",
              "\n",
              "       Последняя/нынешняя должность  \\\n",
              "count                         44742   \n",
              "unique                        16927   \n",
              "top         Системный администратор   \n",
              "freq                           2062   \n",
              "\n",
              "                                        Образование и ВУЗ Обновление резюме  \\\n",
              "count                                               44744             44744   \n",
              "unique                                              40148             18838   \n",
              "top     Высшее образование 1987 Военный инженерный Кра...  07.05.2019 09:50   \n",
              "freq                                                    4                25   \n",
              "\n",
              "              Авто  \n",
              "count        44744  \n",
              "unique           2  \n",
              "top     Не указано  \n",
              "freq         32268  "
            ],
            "text/html": [
              "\n",
              "  <div id=\"df-c7f4bda1-7540-43d9-a985-bac9e355dc71\" class=\"colab-df-container\">\n",
              "    <div>\n",
              "<style scoped>\n",
              "    .dataframe tbody tr th:only-of-type {\n",
              "        vertical-align: middle;\n",
              "    }\n",
              "\n",
              "    .dataframe tbody tr th {\n",
              "        vertical-align: top;\n",
              "    }\n",
              "\n",
              "    .dataframe thead th {\n",
              "        text-align: right;\n",
              "    }\n",
              "</style>\n",
              "<table border=\"1\" class=\"dataframe\">\n",
              "  <thead>\n",
              "    <tr style=\"text-align: right;\">\n",
              "      <th></th>\n",
              "      <th>Пол, возраст</th>\n",
              "      <th>ЗП</th>\n",
              "      <th>Ищет работу на должность:</th>\n",
              "      <th>Город, переезд, командировки</th>\n",
              "      <th>Занятость</th>\n",
              "      <th>График</th>\n",
              "      <th>Опыт работы</th>\n",
              "      <th>Последнее/нынешнее место работы</th>\n",
              "      <th>Последняя/нынешняя должность</th>\n",
              "      <th>Образование и ВУЗ</th>\n",
              "      <th>Обновление резюме</th>\n",
              "      <th>Авто</th>\n",
              "    </tr>\n",
              "  </thead>\n",
              "  <tbody>\n",
              "    <tr>\n",
              "      <th>count</th>\n",
              "      <td>44744</td>\n",
              "      <td>44744</td>\n",
              "      <td>44744</td>\n",
              "      <td>44744</td>\n",
              "      <td>44744</td>\n",
              "      <td>44744</td>\n",
              "      <td>44576</td>\n",
              "      <td>44743</td>\n",
              "      <td>44742</td>\n",
              "      <td>44744</td>\n",
              "      <td>44744</td>\n",
              "      <td>44744</td>\n",
              "    </tr>\n",
              "    <tr>\n",
              "      <th>unique</th>\n",
              "      <td>16003</td>\n",
              "      <td>690</td>\n",
              "      <td>14929</td>\n",
              "      <td>10063</td>\n",
              "      <td>38</td>\n",
              "      <td>47</td>\n",
              "      <td>44413</td>\n",
              "      <td>30214</td>\n",
              "      <td>16927</td>\n",
              "      <td>40148</td>\n",
              "      <td>18838</td>\n",
              "      <td>2</td>\n",
              "    </tr>\n",
              "    <tr>\n",
              "      <th>top</th>\n",
              "      <td>Мужчина ,  32 года , родился 17 сентября 1986</td>\n",
              "      <td>50000 руб.</td>\n",
              "      <td>Системный администратор</td>\n",
              "      <td>Москва , не готов к переезду , не готов к кома...</td>\n",
              "      <td>полная занятость</td>\n",
              "      <td>полный день</td>\n",
              "      <td>Опыт работы 10 лет 8 месяцев  Апрель 2018 — по...</td>\n",
              "      <td>Индивидуальное предпринимательство / частная п...</td>\n",
              "      <td>Системный администратор</td>\n",
              "      <td>Высшее образование 1987 Военный инженерный Кра...</td>\n",
              "      <td>07.05.2019 09:50</td>\n",
              "      <td>Не указано</td>\n",
              "    </tr>\n",
              "    <tr>\n",
              "      <th>freq</th>\n",
              "      <td>18</td>\n",
              "      <td>4064</td>\n",
              "      <td>3099</td>\n",
              "      <td>1261</td>\n",
              "      <td>30026</td>\n",
              "      <td>22727</td>\n",
              "      <td>3</td>\n",
              "      <td>935</td>\n",
              "      <td>2062</td>\n",
              "      <td>4</td>\n",
              "      <td>25</td>\n",
              "      <td>32268</td>\n",
              "    </tr>\n",
              "  </tbody>\n",
              "</table>\n",
              "</div>\n",
              "    <div class=\"colab-df-buttons\">\n",
              "\n",
              "  <div class=\"colab-df-container\">\n",
              "    <button class=\"colab-df-convert\" onclick=\"convertToInteractive('df-c7f4bda1-7540-43d9-a985-bac9e355dc71')\"\n",
              "            title=\"Convert this dataframe to an interactive table.\"\n",
              "            style=\"display:none;\">\n",
              "\n",
              "  <svg xmlns=\"http://www.w3.org/2000/svg\" height=\"24px\" viewBox=\"0 -960 960 960\">\n",
              "    <path d=\"M120-120v-720h720v720H120Zm60-500h600v-160H180v160Zm220 220h160v-160H400v160Zm0 220h160v-160H400v160ZM180-400h160v-160H180v160Zm440 0h160v-160H620v160ZM180-180h160v-160H180v160Zm440 0h160v-160H620v160Z\"/>\n",
              "  </svg>\n",
              "    </button>\n",
              "\n",
              "  <style>\n",
              "    .colab-df-container {\n",
              "      display:flex;\n",
              "      gap: 12px;\n",
              "    }\n",
              "\n",
              "    .colab-df-convert {\n",
              "      background-color: #E8F0FE;\n",
              "      border: none;\n",
              "      border-radius: 50%;\n",
              "      cursor: pointer;\n",
              "      display: none;\n",
              "      fill: #1967D2;\n",
              "      height: 32px;\n",
              "      padding: 0 0 0 0;\n",
              "      width: 32px;\n",
              "    }\n",
              "\n",
              "    .colab-df-convert:hover {\n",
              "      background-color: #E2EBFA;\n",
              "      box-shadow: 0px 1px 2px rgba(60, 64, 67, 0.3), 0px 1px 3px 1px rgba(60, 64, 67, 0.15);\n",
              "      fill: #174EA6;\n",
              "    }\n",
              "\n",
              "    .colab-df-buttons div {\n",
              "      margin-bottom: 4px;\n",
              "    }\n",
              "\n",
              "    [theme=dark] .colab-df-convert {\n",
              "      background-color: #3B4455;\n",
              "      fill: #D2E3FC;\n",
              "    }\n",
              "\n",
              "    [theme=dark] .colab-df-convert:hover {\n",
              "      background-color: #434B5C;\n",
              "      box-shadow: 0px 1px 3px 1px rgba(0, 0, 0, 0.15);\n",
              "      filter: drop-shadow(0px 1px 2px rgba(0, 0, 0, 0.3));\n",
              "      fill: #FFFFFF;\n",
              "    }\n",
              "  </style>\n",
              "\n",
              "    <script>\n",
              "      const buttonEl =\n",
              "        document.querySelector('#df-c7f4bda1-7540-43d9-a985-bac9e355dc71 button.colab-df-convert');\n",
              "      buttonEl.style.display =\n",
              "        google.colab.kernel.accessAllowed ? 'block' : 'none';\n",
              "\n",
              "      async function convertToInteractive(key) {\n",
              "        const element = document.querySelector('#df-c7f4bda1-7540-43d9-a985-bac9e355dc71');\n",
              "        const dataTable =\n",
              "          await google.colab.kernel.invokeFunction('convertToInteractive',\n",
              "                                                    [key], {});\n",
              "        if (!dataTable) return;\n",
              "\n",
              "        const docLinkHtml = 'Like what you see? Visit the ' +\n",
              "          '<a target=\"_blank\" href=https://colab.research.google.com/notebooks/data_table.ipynb>data table notebook</a>'\n",
              "          + ' to learn more about interactive tables.';\n",
              "        element.innerHTML = '';\n",
              "        dataTable['output_type'] = 'display_data';\n",
              "        await google.colab.output.renderOutput(dataTable, element);\n",
              "        const docLink = document.createElement('div');\n",
              "        docLink.innerHTML = docLinkHtml;\n",
              "        element.appendChild(docLink);\n",
              "      }\n",
              "    </script>\n",
              "  </div>\n",
              "\n",
              "\n",
              "<div id=\"df-8dc1be83-0e45-40dc-907f-5ea39eb26605\">\n",
              "  <button class=\"colab-df-quickchart\" onclick=\"quickchart('df-8dc1be83-0e45-40dc-907f-5ea39eb26605')\"\n",
              "            title=\"Suggest charts\"\n",
              "            style=\"display:none;\">\n",
              "\n",
              "<svg xmlns=\"http://www.w3.org/2000/svg\" height=\"24px\"viewBox=\"0 0 24 24\"\n",
              "     width=\"24px\">\n",
              "    <g>\n",
              "        <path d=\"M19 3H5c-1.1 0-2 .9-2 2v14c0 1.1.9 2 2 2h14c1.1 0 2-.9 2-2V5c0-1.1-.9-2-2-2zM9 17H7v-7h2v7zm4 0h-2V7h2v10zm4 0h-2v-4h2v4z\"/>\n",
              "    </g>\n",
              "</svg>\n",
              "  </button>\n",
              "\n",
              "<style>\n",
              "  .colab-df-quickchart {\n",
              "      --bg-color: #E8F0FE;\n",
              "      --fill-color: #1967D2;\n",
              "      --hover-bg-color: #E2EBFA;\n",
              "      --hover-fill-color: #174EA6;\n",
              "      --disabled-fill-color: #AAA;\n",
              "      --disabled-bg-color: #DDD;\n",
              "  }\n",
              "\n",
              "  [theme=dark] .colab-df-quickchart {\n",
              "      --bg-color: #3B4455;\n",
              "      --fill-color: #D2E3FC;\n",
              "      --hover-bg-color: #434B5C;\n",
              "      --hover-fill-color: #FFFFFF;\n",
              "      --disabled-bg-color: #3B4455;\n",
              "      --disabled-fill-color: #666;\n",
              "  }\n",
              "\n",
              "  .colab-df-quickchart {\n",
              "    background-color: var(--bg-color);\n",
              "    border: none;\n",
              "    border-radius: 50%;\n",
              "    cursor: pointer;\n",
              "    display: none;\n",
              "    fill: var(--fill-color);\n",
              "    height: 32px;\n",
              "    padding: 0;\n",
              "    width: 32px;\n",
              "  }\n",
              "\n",
              "  .colab-df-quickchart:hover {\n",
              "    background-color: var(--hover-bg-color);\n",
              "    box-shadow: 0 1px 2px rgba(60, 64, 67, 0.3), 0 1px 3px 1px rgba(60, 64, 67, 0.15);\n",
              "    fill: var(--button-hover-fill-color);\n",
              "  }\n",
              "\n",
              "  .colab-df-quickchart-complete:disabled,\n",
              "  .colab-df-quickchart-complete:disabled:hover {\n",
              "    background-color: var(--disabled-bg-color);\n",
              "    fill: var(--disabled-fill-color);\n",
              "    box-shadow: none;\n",
              "  }\n",
              "\n",
              "  .colab-df-spinner {\n",
              "    border: 2px solid var(--fill-color);\n",
              "    border-color: transparent;\n",
              "    border-bottom-color: var(--fill-color);\n",
              "    animation:\n",
              "      spin 1s steps(1) infinite;\n",
              "  }\n",
              "\n",
              "  @keyframes spin {\n",
              "    0% {\n",
              "      border-color: transparent;\n",
              "      border-bottom-color: var(--fill-color);\n",
              "      border-left-color: var(--fill-color);\n",
              "    }\n",
              "    20% {\n",
              "      border-color: transparent;\n",
              "      border-left-color: var(--fill-color);\n",
              "      border-top-color: var(--fill-color);\n",
              "    }\n",
              "    30% {\n",
              "      border-color: transparent;\n",
              "      border-left-color: var(--fill-color);\n",
              "      border-top-color: var(--fill-color);\n",
              "      border-right-color: var(--fill-color);\n",
              "    }\n",
              "    40% {\n",
              "      border-color: transparent;\n",
              "      border-right-color: var(--fill-color);\n",
              "      border-top-color: var(--fill-color);\n",
              "    }\n",
              "    60% {\n",
              "      border-color: transparent;\n",
              "      border-right-color: var(--fill-color);\n",
              "    }\n",
              "    80% {\n",
              "      border-color: transparent;\n",
              "      border-right-color: var(--fill-color);\n",
              "      border-bottom-color: var(--fill-color);\n",
              "    }\n",
              "    90% {\n",
              "      border-color: transparent;\n",
              "      border-bottom-color: var(--fill-color);\n",
              "    }\n",
              "  }\n",
              "</style>\n",
              "\n",
              "  <script>\n",
              "    async function quickchart(key) {\n",
              "      const quickchartButtonEl =\n",
              "        document.querySelector('#' + key + ' button');\n",
              "      quickchartButtonEl.disabled = true;  // To prevent multiple clicks.\n",
              "      quickchartButtonEl.classList.add('colab-df-spinner');\n",
              "      try {\n",
              "        const charts = await google.colab.kernel.invokeFunction(\n",
              "            'suggestCharts', [key], {});\n",
              "      } catch (error) {\n",
              "        console.error('Error during call to suggestCharts:', error);\n",
              "      }\n",
              "      quickchartButtonEl.classList.remove('colab-df-spinner');\n",
              "      quickchartButtonEl.classList.add('colab-df-quickchart-complete');\n",
              "    }\n",
              "    (() => {\n",
              "      let quickchartButtonEl =\n",
              "        document.querySelector('#df-8dc1be83-0e45-40dc-907f-5ea39eb26605 button');\n",
              "      quickchartButtonEl.style.display =\n",
              "        google.colab.kernel.accessAllowed ? 'block' : 'none';\n",
              "    })();\n",
              "  </script>\n",
              "</div>\n",
              "    </div>\n",
              "  </div>\n"
            ]
          },
          "metadata": {},
          "execution_count": 7
        }
      ],
      "source": [
        "df.describe()"
      ]
    },
    {
      "cell_type": "markdown",
      "id": "8d62a9f3-f64e-4fe7-bdac-c4dffa16155e",
      "metadata": {
        "id": "8d62a9f3-f64e-4fe7-bdac-c4dffa16155e"
      },
      "source": [
        "# Преобразование данных"
      ]
    },
    {
      "cell_type": "markdown",
      "id": "93053d3d-b284-481a-9cf7-012d7014c0e0",
      "metadata": {
        "id": "93053d3d-b284-481a-9cf7-012d7014c0e0"
      },
      "source": [
        "1. Начнем с простого - с признака **\"Образование и ВУЗ\"**. Его текущий формат это: **<Уровень образования год выпуска ВУЗ специальность...>**. Например:\n",
        "* Высшее образование 2016 Московский авиационный институт (национальный исследовательский университет)...\n",
        "* Неоконченное высшее образование 2000  Балтийская государственная академия рыбопромыслового флота…\n",
        "Нас будет интересовать только уровень образования.\n",
        "\n",
        "Создайте с помощью функции-преобразования новый признак **\"Образование\"**, который должен иметь 4 категории: \"высшее\", \"неоконченное высшее\", \"среднее специальное\" и \"среднее\".\n",
        "\n",
        "Выполните преобразование, ответьте на контрольные вопросы и удалите признак \"Образование и ВУЗ\".\n",
        "\n",
        "Совет: обратите внимание на структуру текста в столбце **\"Образование и ВУЗ\"**. Гарантируется, что текущий уровень образования соискателя всегда находится в первых 2ух слов и начинается с заглавной буквы. Воспользуйтесь этим.\n",
        "\n",
        "*Совет: проверяйте полученные категории, например, с помощью метода unique()*\n"
      ]
    },
    {
      "cell_type": "code",
      "execution_count": 8,
      "id": "3f069da6-fdc9-4ae7-b514-fafe2675efd3",
      "metadata": {
        "id": "3f069da6-fdc9-4ae7-b514-fafe2675efd3"
      },
      "outputs": [],
      "source": [
        "df['Образование'] = df['Образование и ВУЗ'].str.lower().str.split().apply(lambda x: ' '.join(x[:2])).str.replace('высшее образование', 'высшее')"
      ]
    },
    {
      "cell_type": "code",
      "source": [
        "df['Образование'].value_counts()"
      ],
      "metadata": {
        "colab": {
          "base_uri": "https://localhost:8080/"
        },
        "id": "QkPQCsaOaMYe",
        "outputId": "1e6f1dd6-2f57-4a4e-ac28-43afbaea4386"
      },
      "id": "QkPQCsaOaMYe",
      "execution_count": 9,
      "outputs": [
        {
          "output_type": "execute_result",
          "data": {
            "text/plain": [
              "высшее                 33863\n",
              "среднее специальное     5765\n",
              "неоконченное высшее     4557\n",
              "среднее образование      559\n",
              "Name: Образование, dtype: int64"
            ]
          },
          "metadata": {},
          "execution_count": 9
        }
      ]
    },
    {
      "cell_type": "code",
      "source": [
        "df.drop('Образование и ВУЗ', axis = 1, inplace = True)"
      ],
      "metadata": {
        "id": "o0pzkljXfAM9"
      },
      "id": "o0pzkljXfAM9",
      "execution_count": 10,
      "outputs": []
    },
    {
      "cell_type": "markdown",
      "id": "4266f0b6-1646-492a-88b4-2f6a46502135",
      "metadata": {
        "id": "4266f0b6-1646-492a-88b4-2f6a46502135"
      },
      "source": [
        "2. Теперь нас интересует столбец **\"Пол, возраст\"**. Сейчас он представлен в формате **<Пол , возраст , дата рождения >**. Например:\n",
        "* Мужчина , 39 лет , родился 27 ноября 1979\n",
        "* Женщина , 21 год , родилась 13 января 2000\n",
        "Как вы понимаете, нам необходимо выделить каждый параметр в отдельный столбец.\n",
        "\n",
        "Создайте два новых признака **\"Пол\"** и **\"Возраст\"**. При этом важно учесть:\n",
        "* Признак пола должен иметь 2 уникальных строковых значения: 'М' - мужчина, 'Ж' - женщина.\n",
        "* Признак возраста должен быть представлен целыми числами.\n",
        "\n",
        "Выполните преобразование, ответьте на контрольные вопросы и удалите признак **\"Пол, возраст\"** из таблицы.\n",
        "\n",
        "*Совет: обратите внимание на структуру текста в столбце, в части на то, как разделены параметры пола, возраста и даты рождения между собой - символом ' , '.\n",
        "Гарантируется, что структура одинакова для всех строк в таблице. Вы можете воспользоваться этим.*\n"
      ]
    },
    {
      "cell_type": "code",
      "execution_count": 11,
      "id": "0c44b350-72eb-4d65-8b54-a1fc449ba9fd",
      "metadata": {
        "id": "0c44b350-72eb-4d65-8b54-a1fc449ba9fd"
      },
      "outputs": [],
      "source": [
        "df['Пол'] = df['Пол, возраст'].apply(lambda x: x[0])\n",
        "df['Возраст'] = df['Пол, возраст'].str.split(' , ').apply(lambda x: x[1]).str.split().apply(lambda x: x[0]).astype(int)"
      ]
    },
    {
      "cell_type": "code",
      "source": [
        "df.drop('Пол, возраст', axis = 1, inplace = True)"
      ],
      "metadata": {
        "id": "v_ARbAt8e-Td"
      },
      "id": "v_ARbAt8e-Td",
      "execution_count": 12,
      "outputs": []
    },
    {
      "cell_type": "markdown",
      "id": "635c4d5d-f323-4c66-b428-50a088120aa0",
      "metadata": {
        "id": "635c4d5d-f323-4c66-b428-50a088120aa0"
      },
      "source": [
        "3. Следующим этапом преобразуем признак **\"Опыт работы\"**. Его текущий формат - это: **<Опыт работы: n лет m месяцев, периоды работы в различных компаниях…>**.\n",
        "\n",
        "Из столбца нам необходимо выделить общий опыт работы соискателя в месяцах, новый признак назовем \"Опыт работы (месяц)\"\n",
        "\n",
        "Для начала обсудим условия решения задачи:\n",
        "* Во-первых, в данном признаке есть пропуски. Условимся, что если мы встречаем пропуск, оставляем его как есть (функция-преобразование возвращает NaN)\n",
        "* Во-вторых, в данном признаке есть скрытые пропуски. Для некоторых соискателей в столбце стоит значения \"Не указано\". Их тоже обозначим как NaN (функция-преобразование возвращает NaN)\n",
        "* В-третьих, нас не интересует информация, которая описывается после указания опыта работы (периоды работы в различных компаниях)\n",
        "* В-четвертых, у нас есть проблема: опыт работы может быть представлен только в годах или только месяцах. Например, можно встретить следующие варианты:\n",
        "    * Опыт работы 3 года 2 месяца…\n",
        "    * Опыт работы 4 года…\n",
        "    * Опыт работы 11 месяцев…\n",
        "    * Учитывайте эту особенность в вашем коде\n",
        "\n",
        "Учитывайте эту особенность в вашем коде\n",
        "\n",
        "В результате преобразования у вас должен получиться столбец, содержащий информацию о том, сколько месяцев проработал соискатель.\n",
        "Выполните преобразование, ответьте на контрольные вопросы и удалите столбец **\"Опыт работы\"** из таблицы.\n"
      ]
    },
    {
      "cell_type": "code",
      "source": [
        "def raw_exp2exp(raw_exp):\n",
        "  if not type(raw_exp)==str:\n",
        "    return None\n",
        "  year_match = re.search('\\d{1,3} год', raw_exp)\n",
        "  if year_match is None:\n",
        "    years = 0\n",
        "  else:\n",
        "    years = int(year_match.group(0).split()[0])\n",
        "\n",
        "  month_match = re.search('\\d{1,3} месяц', raw_exp)\n",
        "  if month_match is None:\n",
        "    months = 0\n",
        "  else:\n",
        "    months = int(month_match.group(0).split()[0])\n",
        "\n",
        "  res_months_num = years*12+months\n",
        "\n",
        "  return res_months_num"
      ],
      "metadata": {
        "id": "Swf1sBMbb50_"
      },
      "id": "Swf1sBMbb50_",
      "execution_count": 13,
      "outputs": []
    },
    {
      "cell_type": "code",
      "source": [
        "df['Опыт работы'] = df['Опыт работы'].replace({'Не указано':None})\n",
        "df['Опыт работы (месяц)'] = df['Опыт работы'].apply(raw_exp2exp)"
      ],
      "metadata": {
        "id": "jysiW5odeWep"
      },
      "id": "jysiW5odeWep",
      "execution_count": 14,
      "outputs": []
    },
    {
      "cell_type": "code",
      "execution_count": 15,
      "id": "603cdbe4-0ec3-4106-8eaf-c73fcdd29165",
      "metadata": {
        "id": "603cdbe4-0ec3-4106-8eaf-c73fcdd29165"
      },
      "outputs": [],
      "source": [
        "df.drop('Опыт работы', axis = 1, inplace = True)"
      ]
    },
    {
      "cell_type": "markdown",
      "id": "f3fdaec9-5fd3-4260-9cf5-1d7406b628a5",
      "metadata": {
        "id": "f3fdaec9-5fd3-4260-9cf5-1d7406b628a5"
      },
      "source": [
        "4. Хорошо идем! Следующий на очереди признак \"Город, переезд, командировки\". Информация в нем представлена в следующем виде: **<Город , (метро) , готовность к переезду (города для переезда) , готовность к командировкам>**. В скобках указаны необязательные параметры строки. Например, можно встретить следующие варианты:\n",
        "\n",
        "* Москва , не готов к переезду , готов к командировкам\n",
        "* Москва , м. Беломорская , не готов к переезду, не готов к командировкам\n",
        "* Воронеж , готов к переезду (Сочи, Москва, Санкт-Петербург) , готов к командировкам\n",
        "\n",
        "Создадим отдельные признаки **\"Город\"**, **\"Готовность к переезду\"**, **\"Готовность к командировкам\"**. При этом важно учесть:\n",
        "\n",
        "* Признак **\"Город\"** должен содержать только 4 категории: \"Москва\", \"Санкт-Петербург\" и \"город-миллионник\" (их список ниже), остальные обозначьте как \"другие\".\n",
        "\n",
        "    Список городов-миллионников:\n",
        "    \n",
        "   <code>million_cities = ['Новосибирск', 'Екатеринбург','Нижний Новгород','Казань', 'Челябинск','Омск', 'Самара', 'Ростов-на-Дону', 'Уфа', 'Красноярск', 'Пермь', 'Воронеж','Волгоград']\n",
        "    </code>\n",
        "    Инфорация о метро, рядом с которым проживает соискатель нас не интересует.\n",
        "* Признак **\"Готовность к переезду\"** должен иметь два возможных варианта: True или False. Обратите внимание, что возможны несколько вариантов описания готовности к переезду в признаке \"Город, переезд, командировки\". Например:\n",
        "    * … , готов к переезду , …\n",
        "    * … , не готова к переезду , …\n",
        "    * … , готова к переезду (Москва, Санкт-Петербург, Ростов-на-Дону)\n",
        "    * … , хочу переехать (США) , …\n",
        "    \n",
        "    Нас интересует только сам факт возможности или желания переезда.\n",
        "* Признак **\"Готовность к командировкам\"** должен иметь два возможных варианта: True или False. Обратите внимание, что возможны несколько вариантов описания готовности к командировкам в признаке \"Город, переезд, командировки\". Например:\n",
        "    * … , готов к командировкам , …\n",
        "    * … , готова к редким командировкам , …\n",
        "    * … , не готов к командировкам , …\n",
        "    \n",
        "    Нас интересует только сам факт готовности к командировке.\n",
        "    \n",
        "    Еще один важный факт: при выгрузки данных у некоторых соискателей \"потерялась\" информация о готовности к командировкам. Давайте по умолчанию будем считать, что такие соискатели не готовы к командировкам.\n",
        "    \n",
        "Выполните преобразования и удалите столбец **\"Город, переезд, командировки\"** из таблицы.\n",
        "\n",
        "*Совет: обратите внимание на то, что структура текста может меняться в зависимости от указания ближайшего метро. Учите это, если будете использовать порядок слов в своей программе.*\n"
      ]
    },
    {
      "cell_type": "code",
      "source": [
        "million_cities = ['Новосибирск', 'Екатеринбург','Нижний Новгород','Казань', 'Челябинск','Омск', 'Самара', 'Ростов-на-Дону', 'Уфа', 'Красноярск', 'Пермь', 'Воронеж','Волгоград']\n",
        "\n",
        "\n",
        "df['Город'] = df['Город, переезд, командировки'].str.split(' , ').apply(lambda x: x[0])\n",
        "\n",
        "cities = df['Город'].unique()\n",
        "cities_map = {}\n",
        "for city in cities:\n",
        "  if city in million_cities:\n",
        "    cities_map[city] = 'город-миллионник'\n",
        "  else:\n",
        "    cities_map[city] = 'другие'\n",
        "\n",
        "cities_map['Москва'] = ['Москва']\n",
        "cities_map['Санкт-Петербург'] = ['Санкт-Петербург']\n",
        "\n",
        "df['Город'] = df['Город'].replace(cities_map)"
      ],
      "metadata": {
        "id": "Tyr-CTwXgrGz"
      },
      "id": "Tyr-CTwXgrGz",
      "execution_count": 16,
      "outputs": []
    },
    {
      "cell_type": "code",
      "source": [
        "def business_trip(x):\n",
        "  try:\n",
        "    text = [i for i in x if 'команд' in i][0]\n",
        "    return not 'не готов' in text\n",
        "\n",
        "  except:\n",
        "    return None\n",
        "df['Готовность к командировкам'] = df['Город, переезд, командировки'].str.split(' , ').apply(business_trip)"
      ],
      "metadata": {
        "id": "8lU_IEHghaA1"
      },
      "id": "8lU_IEHghaA1",
      "execution_count": 17,
      "outputs": []
    },
    {
      "cell_type": "code",
      "source": [
        "def relocation(x):\n",
        "  try:\n",
        "    text = [i for i in x if 'перее' in i][0]\n",
        "    return not 'не готов' in text\n",
        "\n",
        "  except:\n",
        "    return None\n",
        "df['Готовность к переезду'] = df['Город, переезд, командировки'].str.split(' , ').apply(relocation)"
      ],
      "metadata": {
        "id": "I4WX8gQQjACi"
      },
      "id": "I4WX8gQQjACi",
      "execution_count": 18,
      "outputs": []
    },
    {
      "cell_type": "code",
      "source": [
        "df.drop('Город, переезд, командировки', axis = 1, inplace = True)"
      ],
      "metadata": {
        "id": "XD6Mm-bFkugC"
      },
      "id": "XD6Mm-bFkugC",
      "execution_count": 19,
      "outputs": []
    },
    {
      "cell_type": "markdown",
      "id": "0136ffee-0ead-4a6b-b608-61d1c753a438",
      "metadata": {
        "id": "0136ffee-0ead-4a6b-b608-61d1c753a438"
      },
      "source": [
        "5. Рассмотрим поближе признаки **\"Занятость\"** и **\"График\"**. Сейчас признаки представляют собой набор категорий желаемой занятости (полная занятость, частичная занятость, проектная работа, волонтерство, стажировка) и желаемого графика работы (полный день, сменный график, гибкий график, удаленная работа, вахтовый метод).\n",
        "На сайте hh.ru соискатель может указывать различные комбинации данных категорий, например:\n",
        "* полная занятость, частичная занятость\n",
        "* частичная занятость, проектная работа, волонтерство\n",
        "* полный день, удаленная работа\n",
        "* вахтовый метод, гибкий график, удаленная работа, полная занятость\n",
        "\n",
        "Такой вариант признаков имеет множество различных комбинаций, а значит множество уникальных значений, что мешает анализу. Нужно это исправить!\n",
        "\n",
        "Давайте создадим признаки-мигалки для каждой категории: если категория присутствует в списке желаемых соискателем, то в столбце на месте строки рассматриваемого соискателя ставится True, иначе - False.\n",
        "\n",
        "Такой метод преобразования категориальных признаков называется One Hot Encoding и его схема представлена на рисунке ниже:\n",
        "<img src=https://raw.githubusercontent.com/AndreyRysistov/DatasetsForPandas/main/ohe.jpg>\n",
        "Выполните данное преобразование для признаков \"Занятость\" и \"График\", ответьте на контрольные вопросы, после чего удалите их из таблицы"
      ]
    },
    {
      "cell_type": "code",
      "source": [
        "mlb = MultiLabelBinarizer()\n",
        "\n",
        "busy_table = pd.DataFrame(mlb.fit_transform(df['Занятость'].str.split(', ')),\n",
        "                   columns=mlb.classes_)\n",
        "\n",
        "schedule_table = pd.DataFrame(mlb.fit_transform(df['График'].str.split(', ')),\n",
        "                   columns=mlb.classes_)\n",
        "df = pd.concat([df, busy_table, schedule_table], axis = 1)"
      ],
      "metadata": {
        "id": "Xie_L6w0liFm"
      },
      "id": "Xie_L6w0liFm",
      "execution_count": 20,
      "outputs": []
    },
    {
      "cell_type": "code",
      "source": [
        "df.drop(['Занятость', 'График'], axis = 1, inplace = True)"
      ],
      "metadata": {
        "id": "D6maitxZloPQ"
      },
      "id": "D6maitxZloPQ",
      "execution_count": 21,
      "outputs": []
    },
    {
      "cell_type": "markdown",
      "id": "344f123c-b63b-43dd-a8a4-809c1f1bb443",
      "metadata": {
        "id": "344f123c-b63b-43dd-a8a4-809c1f1bb443"
      },
      "source": [
        "6. (2 балла) Наконец, мы добрались до самого главного и самого важного - признака заработной платы **\"ЗП\"**.\n",
        "В чем наша беда? В том, что помимо желаемой заработной платы соискатель указывает валюту, в которой он бы хотел ее получать, например:\n",
        "* 30000 руб.\n",
        "* 50000 грн.\n",
        "* 550 USD\n",
        "\n",
        "Нам бы хотелось видеть заработную плату в единой валюте, например, в рублях. Возникает вопрос, а где взять курс валют по отношению к рублю?\n",
        "\n",
        "На самом деле язык Python имеет в арсенале огромное количество возможностей получения данной информации, от обращения к API Центробанка, до использования специальных библиотек, например pycbrf. Однако, это не тема нашего проекта.\n",
        "\n",
        "Поэтому мы пойдем в лоб: обратимся к специальным интернет-ресурсам для получения данных о курсе в виде текстовых файлов. Например, MDF.RU, данный ресурс позволяет удобно экспортировать данные о курсах различных валют и акций за указанные периоды в виде csv файлов. Мы уже сделали выгрузку курсов валют, которые встречаются в наших данных за период с 29.12.2017 по 05.12.2019. Скачать ее вы можете **на платформе**\n",
        "\n",
        "Создайте новый DataFrame из полученного файла. В полученной таблице нас будут интересовать столбцы:\n",
        "* \"currency\" - наименование валюты в ISO кодировке,\n",
        "* \"date\" - дата,\n",
        "* \"proportion\" - пропорция,\n",
        "* \"close\" - цена закрытия (последний зафиксированный курс валюты на указанный день).\n",
        "\n",
        "\n",
        "Перед вами таблица соответствия наименований иностранных валют в наших данных и их общепринятых сокращений, которые представлены в нашем файле с курсами валют. Пропорция - это число, за сколько единиц валюты указан курс в таблице с курсами. Например, для казахстанского тенге курс на 20.08.2019 составляет 17.197 руб. за 100 тенге, тогда итоговый курс равен - 17.197 / 100 = 0.17197 руб за 1 тенге.\n",
        "Воспользуйтесь этой информацией в ваших преобразованиях.\n",
        "\n",
        "<img src=https://raw.githubusercontent.com/AndreyRysistov/DatasetsForPandas/main/table.jpg>\n",
        "\n",
        "\n",
        "Осталось только понять, откуда брать дату, по которой определяется курс? А вот же она - в признаке **\"Обновление резюме\"**, в нем содержится дата и время, когда соискатель выложил текущий вариант своего резюме. Нас интересует только дата, по ней бы и будем сопоставлять курсы валют.\n",
        "\n",
        "Теперь у нас есть вся необходимая информация для того, чтобы создать признак \"ЗП (руб)\" - заработная плата в рублях.\n",
        "\n",
        "После ответа на контрольные вопросы удалите исходный столбец заработной платы \"ЗП\" и все промежуточные столбцы, если вы их создавали."
      ]
    },
    {
      "cell_type": "markdown",
      "id": "6d794257-61f5-4124-956b-67b92b9391a7",
      "metadata": {
        "tags": [],
        "id": "6d794257-61f5-4124-956b-67b92b9391a7"
      },
      "source": [
        "Итак, давайте обсудим возможный алгоритм преобразования:\n",
        "1. Перевести признак \"Обновление резюме\" из таблицы с резюме в формат datetime и достать из него дату. В тот же формат привести признак \"date\" из таблицы с валютами.\n",
        "2. Выделить из столбца \"ЗП\" сумму желаемой заработной платы и наименование валюты, в которой она исчисляется. Наименование валюты перевести в стандарт ISO согласно с таблицей выше.\n",
        "3. Присоединить к таблице с резюме таблицу с курсами по столбцам с датой и названием валюты (подумайте, какой тип объединения надо выбрать, чтобы в таблице с резюме сохранились данные о заработной плате, изначально представленной в рублях). Значение close для рубля заполнить единицей 1 (курс рубля самого к себе)\n",
        "4. Умножить сумму желаемой заработной платы на присоединенный курс валюты (close) и разделить на пропорцию (обратите внимание на пропуски после объединения в этих столбцах), результат занести в новый столбец \"ЗП (руб)\".\n"
      ]
    },
    {
      "cell_type": "code",
      "source": [
        "df['value'] = df['ЗП'].str.split().apply(lambda x: x[0]).astype(float)\n",
        "df['currency'] = df['ЗП'].str.split().apply(lambda x: x[1])\n",
        "df['date'] = pd.to_datetime(pd.to_datetime(df['Обновление резюме']).dt.date)\n",
        "\n",
        "df['currency'] = df['currency'].replace({\n",
        "    'бел.руб.':'BYN',\n",
        "    'грн.':'UAH',\n",
        "    'сум':'UZS'\n",
        "})"
      ],
      "metadata": {
        "id": "1huaD5MynGg1"
      },
      "id": "1huaD5MynGg1",
      "execution_count": 22,
      "outputs": []
    },
    {
      "cell_type": "code",
      "source": [
        "currencies = pd.read_csv('ExchangeRates.csv')\n",
        "currencies['date'] = pd.to_datetime(currencies['date'], dayfirst = True)\n",
        "\n",
        "df = pd.merge(df, currencies[['date', 'currency', 'close']], on = ['date', 'currency'])\n",
        "df['ЗП (руб)'] = df['value']*df['close']"
      ],
      "metadata": {
        "id": "S_FZEQgXm6CX"
      },
      "id": "S_FZEQgXm6CX",
      "execution_count": 23,
      "outputs": []
    },
    {
      "cell_type": "code",
      "source": [
        "df.drop(['value', 'close', 'currency', 'date', 'ЗП'], axis = 1, inplace = True)"
      ],
      "metadata": {
        "id": "5hz4GrNInxlk"
      },
      "id": "5hz4GrNInxlk",
      "execution_count": 24,
      "outputs": []
    },
    {
      "cell_type": "markdown",
      "id": "7ea20ab6-04a7-40a0-adec-443a0e5a42c3",
      "metadata": {
        "id": "7ea20ab6-04a7-40a0-adec-443a0e5a42c3"
      },
      "source": [
        "# Исследование зависимостей в данных"
      ]
    },
    {
      "cell_type": "markdown",
      "id": "968aed80-74ef-4ffb-b5bf-c65b84e9caea",
      "metadata": {
        "id": "968aed80-74ef-4ffb-b5bf-c65b84e9caea"
      },
      "source": [
        "1. Постройте распределение признака **\"Возраст\"**. Опишите распределение, отвечая на следующие вопросы: чему равна мода распределения, каковы предельные значения признака, в каком примерном интервале находится возраст большинства соискателей? Есть ли аномалии для признака возраста, какие значения вы бы причислили к их числу?\n",
        "*Совет: постройте гистограмму и коробчатую диаграмму рядом.*"
      ]
    },
    {
      "cell_type": "code",
      "execution_count": 25,
      "id": "f2d62796-d400-4ec1-a675-88112739a50e",
      "metadata": {
        "id": "f2d62796-d400-4ec1-a675-88112739a50e",
        "colab": {
          "base_uri": "https://localhost:8080/",
          "height": 472
        },
        "outputId": "f751f30e-bd3b-42e0-f681-4b15c332b426"
      },
      "outputs": [
        {
          "output_type": "display_data",
          "data": {
            "text/plain": [
              "<Figure size 640x480 with 1 Axes>"
            ],
            "image/png": "[encoded data removed]"
          },
          "metadata": {}
        }
      ],
      "source": [
        "df['Возраст'].hist()\n",
        "plt.title('График распределения возраста')\n",
        "plt.ylabel('Количество соискателей')\n",
        "plt.xlabel('Возраст соискателей')\n",
        "plt.show()"
      ]
    },
    {
      "cell_type": "code",
      "source": [
        "df['Возраст'].plot(kind = 'box')"
      ],
      "metadata": {
        "colab": {
          "base_uri": "https://localhost:8080/",
          "height": 448
        },
        "id": "9K1pwi06tdB3",
        "outputId": "e738323b-1a4d-479e-8003-de0df1ce1c06"
      },
      "id": "9K1pwi06tdB3",
      "execution_count": 26,
      "outputs": [
        {
          "output_type": "execute_result",
          "data": {
            "text/plain": [
              "<Axes: >"
            ]
          },
          "metadata": {},
          "execution_count": 26
        },
        {
          "output_type": "display_data",
          "data": {
            "text/plain": [
              "<Figure size 640x480 with 1 Axes>"
            ],
            "image/png": "[encoded data removed]"
          },
          "metadata": {}
        }
      ]
    },
    {
      "cell_type": "code",
      "source": [
        "df['Возраст'].mode()"
      ],
      "metadata": {
        "colab": {
          "base_uri": "https://localhost:8080/"
        },
        "id": "NS4bx3HZtPLP",
        "outputId": "47685633-37b2-41ca-c664-486e9c5e1ba2"
      },
      "id": "NS4bx3HZtPLP",
      "execution_count": 27,
      "outputs": [
        {
          "output_type": "execute_result",
          "data": {
            "text/plain": [
              "0    30\n",
              "Name: Возраст, dtype: int64"
            ]
          },
          "metadata": {},
          "execution_count": 27
        }
      ]
    },
    {
      "cell_type": "code",
      "source": [
        "df['Возраст'].quantile(0.1), df['Возраст'].quantile(0.9)"
      ],
      "metadata": {
        "colab": {
          "base_uri": "https://localhost:8080/"
        },
        "id": "d0KItybpuTfW",
        "outputId": "49bb21b0-9a79-490f-b868-3852706b1979"
      },
      "id": "d0KItybpuTfW",
      "execution_count": 28,
      "outputs": [
        {
          "output_type": "execute_result",
          "data": {
            "text/plain": [
              "(22.0, 37.0)"
            ]
          },
          "metadata": {},
          "execution_count": 28
        }
      ]
    },
    {
      "cell_type": "code",
      "source": [
        "df['Возраст'].describe()"
      ],
      "metadata": {
        "colab": {
          "base_uri": "https://localhost:8080/"
        },
        "id": "CxK7M9HutLTN",
        "outputId": "2ead6652-99ea-4657-934e-db75c161473b"
      },
      "id": "CxK7M9HutLTN",
      "execution_count": 29,
      "outputs": [
        {
          "output_type": "execute_result",
          "data": {
            "text/plain": [
              "count    2273.000000\n",
              "mean       29.343159\n",
              "std         6.592928\n",
              "min        16.000000\n",
              "25%        25.000000\n",
              "50%        28.000000\n",
              "75%        32.000000\n",
              "max        69.000000\n",
              "Name: Возраст, dtype: float64"
            ]
          },
          "metadata": {},
          "execution_count": 29
        }
      ]
    },
    {
      "cell_type": "markdown",
      "id": "88967466-5070-4bea-9e71-b3efefdc6e4a",
      "metadata": {
        "id": "88967466-5070-4bea-9e71-b3efefdc6e4a"
      },
      "source": [
        "Наиболее частое значиение возраста соискателей - 30 лет  \n",
        "Основная доля (~80%) соискателей с 22 до 37 лет  \n",
        "Предельные значения 16 и 69  \n",
        "Аномалий замечено не было\n"
      ]
    },
    {
      "cell_type": "markdown",
      "id": "68377cfc-b378-43dc-ab7d-1195abf2c515",
      "metadata": {
        "id": "68377cfc-b378-43dc-ab7d-1195abf2c515"
      },
      "source": [
        "2. Постройте распределение признака **\"Опыт работы (месяц)\"**. Опишите данное распределение, отвечая на следующие вопросы: чему равна мода распределения, каковы предельные значения признака, в каком примерном интервале находится опыт работы большинства соискателей? Есть ли аномалии для признака опыта работы, какие значения вы бы причислили к их числу?\n",
        "*Совет: постройте гистограмму и коробчатую диаграмму рядом.*"
      ]
    },
    {
      "cell_type": "code",
      "source": [
        "view_col = 'Опыт работы (месяц)'"
      ],
      "metadata": {
        "id": "TrkbO6WLIa5e"
      },
      "id": "TrkbO6WLIa5e",
      "execution_count": 45,
      "outputs": []
    },
    {
      "cell_type": "code",
      "execution_count": 46,
      "id": "dd7df27a-e3e8-412e-a21a-5d389b71e891",
      "metadata": {
        "id": "dd7df27a-e3e8-412e-a21a-5d389b71e891",
        "colab": {
          "base_uri": "https://localhost:8080/",
          "height": 472
        },
        "outputId": "4d4d70c2-f0ad-4bf5-ab76-b8ceac132bb9"
      },
      "outputs": [
        {
          "output_type": "display_data",
          "data": {
            "text/plain": [
              "<Figure size 640x480 with 1 Axes>"
            ],
            "image/png": "[encoded data removed]"
          },
          "metadata": {}
        }
      ],
      "source": [
        "df[view_col].hist()\n",
        "plt.title('График распределения опыта работы соискателей')\n",
        "plt.ylabel('Количество соискателей')\n",
        "plt.xlabel('Опыт работы соискателей(в месяцах)')\n",
        "plt.show()"
      ]
    },
    {
      "cell_type": "code",
      "source": [
        "df[view_col].plot(kind = 'box')"
      ],
      "metadata": {
        "colab": {
          "base_uri": "https://localhost:8080/",
          "height": 448
        },
        "id": "uJn56KT_IYk1",
        "outputId": "169fda10-4f0f-43e5-bf6e-f8288d4a285c"
      },
      "id": "uJn56KT_IYk1",
      "execution_count": 47,
      "outputs": [
        {
          "output_type": "execute_result",
          "data": {
            "text/plain": [
              "<Axes: >"
            ]
          },
          "metadata": {},
          "execution_count": 47
        },
        {
          "output_type": "display_data",
          "data": {
            "text/plain": [
              "<Figure size 640x480 with 1 Axes>"
            ],
            "image/png": "[encoded data removed]"
          },
          "metadata": {}
        }
      ]
    },
    {
      "cell_type": "code",
      "source": [
        "df[view_col].mode()"
      ],
      "metadata": {
        "colab": {
          "base_uri": "https://localhost:8080/"
        },
        "id": "-D75lhXVIiqX",
        "outputId": "24bb1ad7-9c7c-4d1a-df6f-84227eb731f1"
      },
      "id": "-D75lhXVIiqX",
      "execution_count": 48,
      "outputs": [
        {
          "output_type": "execute_result",
          "data": {
            "text/plain": [
              "0    16.0\n",
              "Name: Опыт работы (месяц), dtype: float64"
            ]
          },
          "metadata": {},
          "execution_count": 48
        }
      ]
    },
    {
      "cell_type": "code",
      "source": [
        "df[view_col].quantile(0.1), df[view_col].quantile(0.9)"
      ],
      "metadata": {
        "colab": {
          "base_uri": "https://localhost:8080/"
        },
        "id": "EuhjTKV2Ijht",
        "outputId": "cb635027-a59f-4058-a12e-87af5edb0424"
      },
      "id": "EuhjTKV2Ijht",
      "execution_count": 49,
      "outputs": [
        {
          "output_type": "execute_result",
          "data": {
            "text/plain": [
              "(5.0, 53.0)"
            ]
          },
          "metadata": {},
          "execution_count": 49
        }
      ]
    },
    {
      "cell_type": "code",
      "source": [
        "df[view_col].describe()"
      ],
      "metadata": {
        "colab": {
          "base_uri": "https://localhost:8080/"
        },
        "id": "ghiKoSzeIkmD",
        "outputId": "ee92724f-aeb4-44dc-ddf9-164677a1a723"
      },
      "id": "ghiKoSzeIkmD",
      "execution_count": 50,
      "outputs": [
        {
          "output_type": "execute_result",
          "data": {
            "text/plain": [
              "count    2272.000000\n",
              "mean       31.855634\n",
              "std        41.676812\n",
              "min         0.000000\n",
              "25%        14.000000\n",
              "50%        23.000000\n",
              "75%        40.000000\n",
              "max       416.000000\n",
              "Name: Опыт работы (месяц), dtype: float64"
            ]
          },
          "metadata": {},
          "execution_count": 50
        }
      ]
    },
    {
      "cell_type": "markdown",
      "id": "7305c34b-089d-4986-be9f-5fa1c0ee281c",
      "metadata": {
        "id": "7305c34b-089d-4986-be9f-5fa1c0ee281c"
      },
      "source": [
        "Наиболее частое значиение опыта соискателей - 16 месяцев  \n",
        "Основная доля (\\~80%) соискателей обладают стажем от 5 до 53 месяцев  \n",
        "Предельные значения 0 и 416 (\\~35 лет)  \n",
        "Аномалий замечено не было"
      ]
    },
    {
      "cell_type": "markdown",
      "id": "f2fe0acb-ab1a-4e15-9326-2560e22d73c1",
      "metadata": {
        "id": "f2fe0acb-ab1a-4e15-9326-2560e22d73c1"
      },
      "source": [
        "3. Постройте распределение признака **\"ЗП (руб)\"**. Опишите данное распределение, отвечая на следующие вопросы: каковы предельные значения признака, в каком примерном интервале находится заработная плата большинства соискателей? Есть ли аномалии для признака возраста? Обратите внимание на гигантские размеры желаемой заработной платы.\n",
        "*Совет: постройте гистограмму и коробчатую диаграмму рядом.*\n"
      ]
    },
    {
      "cell_type": "code",
      "execution_count": 51,
      "id": "6271f8ad-bd2e-4196-ae4a-5b39c4c1010e",
      "metadata": {
        "id": "6271f8ad-bd2e-4196-ae4a-5b39c4c1010e"
      },
      "outputs": [],
      "source": [
        "view_col = 'ЗП (руб)'"
      ]
    },
    {
      "cell_type": "code",
      "execution_count": 52,
      "metadata": {
        "colab": {
          "base_uri": "https://localhost:8080/",
          "height": 472
        },
        "id": "tEG9-V_4I0yw",
        "outputId": "fb125e82-66b9-4afb-a5d4-d3aafef1a156"
      },
      "outputs": [
        {
          "output_type": "display_data",
          "data": {
            "text/plain": [
              "<Figure size 640x480 with 1 Axes>"
            ],
            "image/png": "[encoded data removed]"
          },
          "metadata": {}
        }
      ],
      "source": [
        "df[view_col].hist()\n",
        "plt.title('График распределения размера желаемой зарплаты соискателей')\n",
        "plt.ylabel('Количество соискателей')\n",
        "plt.xlabel('Желаемая ЗП')\n",
        "plt.show()"
      ],
      "id": "tEG9-V_4I0yw"
    },
    {
      "cell_type": "code",
      "source": [
        "trashold = df[view_col].quantile(0.99)\n",
        "df[view_col][df[view_col]<trashold].hist()\n",
        "plt.title('График распределения размера желаемой зарплаты соискателей')\n",
        "plt.ylabel('Количество соискателей')\n",
        "plt.xlabel('Желаемая ЗП')\n",
        "plt.show()"
      ],
      "metadata": {
        "colab": {
          "base_uri": "https://localhost:8080/",
          "height": 472
        },
        "id": "X8F1DZC4M_LX",
        "outputId": "e8aa8f27-d4dd-4754-8a4f-20f58b686104"
      },
      "id": "X8F1DZC4M_LX",
      "execution_count": 53,
      "outputs": [
        {
          "output_type": "display_data",
          "data": {
            "text/plain": [
              "<Figure size 640x480 with 1 Axes>"
            ],
            "image/png": "[encoded data removed]"
          },
          "metadata": {}
        }
      ]
    },
    {
      "cell_type": "code",
      "source": [
        "df[view_col][df[view_col]<trashold].plot(kind = 'box')"
      ],
      "metadata": {
        "colab": {
          "base_uri": "https://localhost:8080/",
          "height": 463
        },
        "id": "duKqfnnDI0yw",
        "outputId": "03963118-7058-4a9b-f46d-0748ccccd02c"
      },
      "execution_count": 54,
      "outputs": [
        {
          "output_type": "execute_result",
          "data": {
            "text/plain": [
              "<Axes: >"
            ]
          },
          "metadata": {},
          "execution_count": 54
        },
        {
          "output_type": "display_data",
          "data": {
            "text/plain": [
              "<Figure size 640x480 with 1 Axes>"
            ],
            "image/png": "[encoded data removed]"
          },
          "metadata": {}
        }
      ],
      "id": "duKqfnnDI0yw"
    },
    {
      "cell_type": "code",
      "source": [
        "df[view_col].apply(lambda x: x//5000*5000).mode()"
      ],
      "metadata": {
        "colab": {
          "base_uri": "https://localhost:8080/"
        },
        "id": "SzM8bZIdI0yw",
        "outputId": "4e3e8334-43da-4342-a3b3-50295dc4b407"
      },
      "execution_count": 55,
      "outputs": [
        {
          "output_type": "execute_result",
          "data": {
            "text/plain": [
              "0    30000.0\n",
              "1    60000.0\n",
              "Name: ЗП (руб), dtype: float64"
            ]
          },
          "metadata": {},
          "execution_count": 55
        }
      ],
      "id": "SzM8bZIdI0yw"
    },
    {
      "cell_type": "code",
      "source": [
        "df[view_col].quantile(0.1), df[view_col].quantile(0.9)"
      ],
      "metadata": {
        "colab": {
          "base_uri": "https://localhost:8080/"
        },
        "id": "RwY0d0GsI0yx",
        "outputId": "5d8d064e-9f7c-47bf-8625-dca0b5cb278b"
      },
      "execution_count": 56,
      "outputs": [
        {
          "output_type": "execute_result",
          "data": {
            "text/plain": [
              "(30531.4, 5903799.999999999)"
            ]
          },
          "metadata": {},
          "execution_count": 56
        }
      ],
      "id": "RwY0d0GsI0yx"
    },
    {
      "cell_type": "code",
      "source": [
        "df[view_col].describe()"
      ],
      "metadata": {
        "colab": {
          "base_uri": "https://localhost:8080/"
        },
        "id": "efeMCMJrI0yx",
        "outputId": "bfaddfab-f360-4b6a-8375-f6a1699f8f48"
      },
      "execution_count": 57,
      "outputs": [
        {
          "output_type": "execute_result",
          "data": {
            "text/plain": [
              "count    2.273000e+03\n",
              "mean     4.429635e+06\n",
              "std      2.961751e+07\n",
              "min      6.340130e+01\n",
              "25%      6.414010e+04\n",
              "50%      8.503670e+05\n",
              "75%      3.373600e+06\n",
              "max      6.514808e+08\n",
              "Name: ЗП (руб), dtype: float64"
            ]
          },
          "metadata": {},
          "execution_count": 57
        }
      ],
      "id": "efeMCMJrI0yx"
    },
    {
      "cell_type": "markdown",
      "id": "6c39ca13-225e-48f7-a85c-ab07a6cc852a",
      "metadata": {
        "id": "6c39ca13-225e-48f7-a85c-ab07a6cc852a"
      },
      "source": []
    },
    {
      "cell_type": "markdown",
      "id": "eab2206d-d95b-468b-8e5f-34381abf0ce7",
      "metadata": {
        "id": "eab2206d-d95b-468b-8e5f-34381abf0ce7"
      },
      "source": [
        "4. Постройте диаграмму, которая показывает зависимость **медианной** желаемой заработной платы (**\"ЗП (руб)\"**) от уровня образования (**\"Образование\"**). Используйте для диаграммы данные о резюме, где желаемая заработная плата меньше 1 млн рублей.\n",
        "*Сделайте выводы по представленной диаграмме: для каких уровней образования наблюдаются наибольшие и наименьшие уровни желаемой заработной платы? Как вы считаете, важен ли признак уровня образования при прогнозировании заработной платы?*"
      ]
    },
    {
      "cell_type": "code",
      "execution_count": 63,
      "id": "80defb23-bfb1-4a18-8be6-bf36aa7165d5",
      "metadata": {
        "id": "80defb23-bfb1-4a18-8be6-bf36aa7165d5",
        "colab": {
          "base_uri": "https://localhost:8080/",
          "height": 656
        },
        "outputId": "149356c5-1a0c-40d1-c6c3-7f3b390c0f22"
      },
      "outputs": [
        {
          "output_type": "execute_result",
          "data": {
            "text/plain": [
              "Text(0.5, 1.0, 'График зависимости медианной желаемой заработной платы от уровня образования')"
            ]
          },
          "metadata": {},
          "execution_count": 63
        },
        {
          "output_type": "display_data",
          "data": {
            "text/plain": [
              "<Figure size 640x480 with 1 Axes>"
            ],
            "image/png": "[encoded data removed]"
          },
          "metadata": {}
        }
      ],
      "source": [
        "df.groupby('Образование')['ЗП (руб)'].median().plot(kind = 'bar')\n",
        "plt.title('График зависимости медианной желаемой заработной платы от уровня образования')"
      ]
    },
    {
      "cell_type": "markdown",
      "id": "dc463319-3f85-47dd-b66e-aecb0be0c76f",
      "metadata": {
        "id": "dc463319-3f85-47dd-b66e-aecb0be0c76f"
      },
      "source": [
        "Наименьшая зарплата наблюдается для группы неоконченное высшее  \n",
        "Наибольшая зарплата наблюдается для группы среднее специальное  \n",
        "Вероятно да, но окончательный вывод о важности можно сделать только на основе анализа распределений запрплат для разных уровней образования(ниже). Плюс важный момент в том, насколько репрезентативен датасет реальному распределению соискателей."
      ]
    },
    {
      "cell_type": "markdown",
      "id": "0112af31-f6b0-4e3b-82ab-71296e752e5e",
      "metadata": {
        "id": "0112af31-f6b0-4e3b-82ab-71296e752e5e"
      },
      "source": [
        "5. Постройте диаграмму, которая показывает распределение желаемой заработной платы (**\"ЗП (руб)\"**) в зависимости от города (**\"Город\"**). Используйте для диаграммы данные о резюме, где желая заработная плата меньше 1 млн рублей.\n",
        "*Сделайте выводы по полученной диаграмме: как соотносятся медианные уровни желаемой заработной платы и их размах в городах? Как вы считаете, важен ли признак города при прогнозировании заработной платы?*"
      ]
    },
    {
      "cell_type": "code",
      "execution_count": null,
      "id": "973b0cfc-a972-470a-8b4a-68744ef220c4",
      "metadata": {
        "id": "973b0cfc-a972-470a-8b4a-68744ef220c4"
      },
      "outputs": [],
      "source": [
        "# ваш код здесь"
      ]
    },
    {
      "cell_type": "markdown",
      "id": "2710ce73-2e81-4e38-b52f-833cd14ba47a",
      "metadata": {
        "tags": [],
        "id": "2710ce73-2e81-4e38-b52f-833cd14ba47a"
      },
      "source": [
        "ваши выводы здесь"
      ]
    },
    {
      "cell_type": "markdown",
      "id": "3bfcfdaf-755d-4d2b-8ed8-326201dc07ab",
      "metadata": {
        "id": "3bfcfdaf-755d-4d2b-8ed8-326201dc07ab"
      },
      "source": [
        "6. Постройте **многоуровневую столбчатую диаграмму**, которая показывает зависимость медианной заработной платы (**\"ЗП (руб)\"**) от признаков **\"Готовность к переезду\"** и **\"Готовность к командировкам\"**. Проанализируйте график, сравнив уровень заработной платы в категориях."
      ]
    },
    {
      "cell_type": "code",
      "execution_count": null,
      "id": "ad3f270f-2991-47eb-929b-e8f88a55b0d1",
      "metadata": {
        "id": "ad3f270f-2991-47eb-929b-e8f88a55b0d1"
      },
      "outputs": [],
      "source": [
        "# ваш код здесь"
      ]
    },
    {
      "cell_type": "code",
      "execution_count": null,
      "id": "efcf512a-4918-4c3f-9357-b3035f9e5f5f",
      "metadata": {
        "id": "efcf512a-4918-4c3f-9357-b3035f9e5f5f"
      },
      "outputs": [],
      "source": [
        "ваши выводы здесь"
      ]
    },
    {
      "cell_type": "markdown",
      "id": "7b02bb86-0546-40fb-94a4-242f050a5c57",
      "metadata": {
        "id": "7b02bb86-0546-40fb-94a4-242f050a5c57"
      },
      "source": [
        "7. Постройте сводную таблицу, иллюстрирующую зависимость **медианной** желаемой заработной платы от возраста (**\"Возраст\"**) и образования (**\"Образование\"**). На полученной сводной таблице постройте **тепловую карту**. Проанализируйте тепловую карту, сравнив показатели внутри групп."
      ]
    },
    {
      "cell_type": "code",
      "execution_count": null,
      "id": "5a0e32a4-e68a-4365-8a39-2fe24c542c36",
      "metadata": {
        "id": "5a0e32a4-e68a-4365-8a39-2fe24c542c36"
      },
      "outputs": [],
      "source": [
        "# ваш код здесь"
      ]
    },
    {
      "cell_type": "markdown",
      "id": "7aade1c2-16a0-418c-8427-ad93927c7705",
      "metadata": {
        "id": "7aade1c2-16a0-418c-8427-ad93927c7705"
      },
      "source": [
        "ваши выводы здесь"
      ]
    },
    {
      "cell_type": "markdown",
      "id": "d0247088-9003-455b-a591-a44650f487c3",
      "metadata": {
        "id": "d0247088-9003-455b-a591-a44650f487c3"
      },
      "source": [
        "8. Постройте **диаграмму рассеяния**, показывающую зависимость опыта работы (**\"Опыт работы (месяц)\"**) от возраста (**\"Возраст\"**). Опыт работы переведите из месяцев в года, чтобы признаки были в едином масштабе. Постройте на графике дополнительно прямую, проходящую через точки (0, 0) и (100, 100). Данная прямая соответствует значениям, когда опыт работы равен возрасту человека. Точки, лежащие на этой прямой и выше нее - аномалии в наших данных (опыт работы больше либо равен возрасту соискателя)"
      ]
    },
    {
      "cell_type": "code",
      "execution_count": null,
      "id": "a4143e50-b900-4ec8-9ae9-fc3ec3347287",
      "metadata": {
        "id": "a4143e50-b900-4ec8-9ae9-fc3ec3347287"
      },
      "outputs": [],
      "source": [
        "# ваш код здесь"
      ]
    },
    {
      "cell_type": "markdown",
      "id": "6f9218ff-52c7-4742-b328-4db5d4da7262",
      "metadata": {
        "id": "6f9218ff-52c7-4742-b328-4db5d4da7262"
      },
      "source": [
        "ваши выводы здесь"
      ]
    },
    {
      "cell_type": "markdown",
      "id": "0cc3b0d5-b551-424d-9956-8da18fce17a1",
      "metadata": {
        "id": "0cc3b0d5-b551-424d-9956-8da18fce17a1"
      },
      "source": [
        "**Дополнительные баллы**\n",
        "\n",
        "Для получения 2 дополнительных баллов по разведывательному анализу постройте еще два любых содержательных графика или диаграммы, которые помогут проиллюстрировать влияние признаков/взаимосвязь между признаками/распределения признаков. Приведите выводы по ним. Желательно, чтобы в анализе участвовали признаки, которые мы создавали ранее в разделе \"Преобразование данных\".\n"
      ]
    },
    {
      "cell_type": "code",
      "execution_count": 72,
      "id": "e273ec66-b8df-41e5-9b99-bdab93dddd85",
      "metadata": {
        "id": "e273ec66-b8df-41e5-9b99-bdab93dddd85",
        "colab": {
          "base_uri": "https://localhost:8080/",
          "height": 865
        },
        "outputId": "1f77166c-6751-492c-a40f-8613fa3b9b60"
      },
      "outputs": [
        {
          "output_type": "display_data",
          "data": {
            "text/plain": [
              "<Figure size 1000x1000 with 1 Axes>"
            ],
            "image/png": "[encoded data removed]"
          },
          "metadata": {}
        }
      ],
      "source": [
        "trashold = df[view_col].quantile(0.99)\n",
        "plt.figure(figsize=(10, 10))\n",
        "sns.boxplot(x='Образование', y=\"ЗП (руб)\", data=df[df[view_col]<trashold])\n",
        "plt.show()"
      ]
    },
    {
      "cell_type": "markdown",
      "id": "04966e40-3bc3-4dc8-9ba2-e80580ce3abc",
      "metadata": {
        "id": "04966e40-3bc3-4dc8-9ba2-e80580ce3abc"
      },
      "source": [
        "На данный момент мы видим более обширную картино по зваисиомсти уровня зп от уровня образования. Например в распределении вышего образования мы видим, что 3й квартиль лежит выше остальных и это проясняет ситуацию. Потому что когда  я увидел низкую медиану - это было странно, ведь обычно считается что с высшим образованием можно получить более высокую зарплату. В данном случае мы это и видим, но при этом часть распределения(50%) действительно располагается ниже аналогичной части среднего и средне специального образования.  \n",
        "Что касается последних, то в них наоборот видим закономерность, что хоть и медиана высока, но для 75% соискатлей верхняя планка расположена ниже распределения высшего образования.  \n",
        "Что касается неоконченного высшего, то оно очень напоминает распределение высшего образования, но со всем ключевыми точками ниже(медиана, 1й, 3й квартили)"
      ]
    },
    {
      "cell_type": "markdown",
      "id": "b1ef156a-efcb-49ce-bb23-90763e7f35b2",
      "metadata": {
        "tags": [],
        "id": "b1ef156a-efcb-49ce-bb23-90763e7f35b2"
      },
      "source": [
        "# Очистка данных"
      ]
    },
    {
      "cell_type": "markdown",
      "id": "b9cd50a0-992d-4988-8463-2b2b1c4629b4",
      "metadata": {
        "id": "b9cd50a0-992d-4988-8463-2b2b1c4629b4"
      },
      "source": [
        "1. Начнем с дубликатов в наших данных. Найдите **полные дубликаты** в таблице с резюме и удалите их."
      ]
    },
    {
      "cell_type": "code",
      "execution_count": null,
      "id": "54ab0e50-c0f1-47cc-a54b-bc5c8bc363f9",
      "metadata": {
        "id": "54ab0e50-c0f1-47cc-a54b-bc5c8bc363f9"
      },
      "outputs": [],
      "source": [
        "# ваш код здесь"
      ]
    },
    {
      "cell_type": "markdown",
      "id": "4dea20cb-a36b-474a-a0b9-e08e8e3857a5",
      "metadata": {
        "id": "4dea20cb-a36b-474a-a0b9-e08e8e3857a5"
      },
      "source": [
        "2. Займемся пропусками. Выведите информацию **о числе пропусков** в столбцах."
      ]
    },
    {
      "cell_type": "code",
      "execution_count": null,
      "id": "9c61b3c0-bb66-46c9-ae1e-81d3f5752b4a",
      "metadata": {
        "id": "9c61b3c0-bb66-46c9-ae1e-81d3f5752b4a"
      },
      "outputs": [],
      "source": [
        "# ваш код здесь"
      ]
    },
    {
      "cell_type": "markdown",
      "id": "eedceb80-c5ca-480e-b27a-278dfb8b4438",
      "metadata": {
        "id": "eedceb80-c5ca-480e-b27a-278dfb8b4438"
      },
      "source": [
        "3. Итак, у нас есть пропуски в 3ех столбцах: **\"Опыт работы (месяц)\"**, **\"Последнее/нынешнее место работы\"**, **\"Последняя/нынешняя должность\"**. Поступим следующим образом: удалите строки, где есть пропуск в столбцах с местом работы и должностью. Пропуски в столбце с опытом работы заполните **медианным** значением."
      ]
    },
    {
      "cell_type": "code",
      "execution_count": null,
      "id": "69621713-0cc5-4f1b-a1d7-bb144fa6148c",
      "metadata": {
        "id": "69621713-0cc5-4f1b-a1d7-bb144fa6148c"
      },
      "outputs": [],
      "source": [
        "# ваш код здесь"
      ]
    },
    {
      "cell_type": "markdown",
      "id": "1be1e9c6-37cf-4a5f-bfeb-04cab799dc80",
      "metadata": {
        "id": "1be1e9c6-37cf-4a5f-bfeb-04cab799dc80"
      },
      "source": [
        "4. Мы добрались до ликвидации выбросов. Сначала очистим данные вручную. Удалите резюме, в которых указана заработная плата либо выше 1 млн. рублей, либо ниже 1 тыс. рублей."
      ]
    },
    {
      "cell_type": "code",
      "execution_count": null,
      "id": "0036a355-9ccf-4564-8b01-73d8194297e7",
      "metadata": {
        "id": "0036a355-9ccf-4564-8b01-73d8194297e7"
      },
      "outputs": [],
      "source": [
        "# ваш код здесь"
      ]
    },
    {
      "cell_type": "markdown",
      "id": "ec3c8db7-fa21-4a41-a994-1af63742a642",
      "metadata": {
        "id": "ec3c8db7-fa21-4a41-a994-1af63742a642"
      },
      "source": [
        "5. В процессе разведывательного анализа мы обнаружили резюме, в которых **опыт работы в годах превышал возраст соискателя**. Найдите такие резюме и удалите их из данных\n"
      ]
    },
    {
      "cell_type": "code",
      "execution_count": null,
      "id": "949132bc-d5b6-4611-8218-0b9a504d74f4",
      "metadata": {
        "id": "949132bc-d5b6-4611-8218-0b9a504d74f4"
      },
      "outputs": [],
      "source": [
        "# ваш код здесь"
      ]
    },
    {
      "cell_type": "markdown",
      "id": "1041c17a-ca8f-4543-a0ca-32778914fb00",
      "metadata": {
        "id": "1041c17a-ca8f-4543-a0ca-32778914fb00"
      },
      "source": [
        "6. В результате анализа мы обнаружили потенциальные выбросы в признаке **\"Возраст\"**. Это оказались резюме людей чересчур преклонного возраста для поиска работы. Попробуйте построить распределение признака в **логарифмическом масштабе**. Добавьте к графику линии, отображающие **среднее и границы интервала метода трех сигм**. Напомним, сделать это можно с помощью метода axvline. Например, для построение линии среднего будет иметь вид:\n",
        "\n",
        "`histplot.axvline(log_age.mean(), color='k', lw=2)`\n",
        "\n",
        "В какую сторону асимметрично логарифмическое распределение? Напишите об этом в комментарии к графику.\n",
        "Найдите выбросы с помощью метода z-отклонения и удалите их из данных, используйте логарифмический масштаб. Давайте сделаем послабление на **1 сигму** (возьмите 4 сигмы) в **правую сторону**.\n",
        "\n",
        "Выведите таблицу с полученными выбросами и оцените, с каким возрастом соискатели попадают под категорию выбросов?"
      ]
    },
    {
      "cell_type": "code",
      "execution_count": null,
      "id": "6a743d39-5204-48d3-8271-b9f88e68d40e",
      "metadata": {
        "id": "6a743d39-5204-48d3-8271-b9f88e68d40e"
      },
      "outputs": [],
      "source": [
        "# ваш код здесь"
      ]
    },
    {
      "cell_type": "markdown",
      "id": "6a7892b4-4113-4746-adce-18aa2844f18e",
      "metadata": {
        "id": "6a7892b4-4113-4746-adce-18aa2844f18e"
      },
      "source": [
        "ваш коммментарий здесь"
      ]
    }
  ],
  "metadata": {
    "kernelspec": {
      "display_name": "Python 3 (ipykernel)",
      "language": "python",
      "name": "python3"
    },
    "language_info": {
      "codemirror_mode": {
        "name": "ipython",
        "version": 3
      },
      "file_extension": ".py",
      "mimetype": "text/x-python",
      "name": "python",
      "nbconvert_exporter": "python",
      "pygments_lexer": "ipython3",
      "version": "3.9.7"
    },
    "colab": {
      "provenance": []
    }
  },
  "nbformat": 4,
  "nbformat_minor": 5
}